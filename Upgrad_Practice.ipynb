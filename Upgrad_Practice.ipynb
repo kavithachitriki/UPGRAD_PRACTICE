{
  "nbformat": 4,
  "nbformat_minor": 0,
  "metadata": {
    "colab": {
      "name": "Upgrad_Practice.ipynb",
      "provenance": [],
      "authorship_tag": "ABX9TyMrFQovk+xLRcIzZQmhlvyj",
      "include_colab_link": true
    },
    "kernelspec": {
      "name": "python3",
      "display_name": "Python 3"
    },
    "language_info": {
      "name": "python"
    }
  },
  "cells": [
    {
      "cell_type": "markdown",
      "metadata": {
        "id": "view-in-github",
        "colab_type": "text"
      },
      "source": [
        "<a href=\"https://colab.research.google.com/github/kavithachitriki/UPGRAD_PRACTICE/blob/main/Upgrad_Practice.ipynb\" target=\"_parent\"><img src=\"https://colab.research.google.com/assets/colab-badge.svg\" alt=\"Open In Colab\"/></a>"
      ]
    },
    {
      "cell_type": "code",
      "execution_count": null,
      "metadata": {
        "colab": {
          "base_uri": "https://localhost:8080/"
        },
        "id": "iQ-quh45lAqv",
        "outputId": "8bffb4ca-35cd-4b5e-d4c9-aad7388860e6"
      },
      "outputs": [
        {
          "output_type": "stream",
          "name": "stdout",
          "text": [
            "9\n",
            "9\n",
            "63\n",
            "9.0\n"
          ]
        }
      ],
      "source": [
        "class Student():\n",
        "    \n",
        "    marks1points=0\n",
        "    marks2points=0\n",
        "\n",
        "    def __init__(self, marks1,marks2,credits1, credits2):\n",
        "        #YOUR CODE GOES HERE\n",
        "        self.marks1=marks1\n",
        "        self.marks2=marks2\n",
        "        self.credits1=credits1\n",
        "        self.credits2=credits2\n",
        "    \n",
        "    def grade_point_average(self):\n",
        "        \n",
        "        if(self.marks1>=90):\n",
        "            marks1points=10\n",
        "        elif (self.marks1<90 and self.marks1>=75):\n",
        "            marks1points=9\n",
        "        elif (self.marks1<75 and self.marks1>=60):\n",
        "            marks1points=8\n",
        "        elif (self.marks1<60 and self.marks1>=45):\n",
        "            marks1points=7\n",
        "        print(marks1points)\n",
        "        if(self.marks2>=90):\n",
        "            marks2points=10\n",
        "        elif(self.marks2<90 and self.marks2>=75):\n",
        "            marks2points=9\n",
        "        elif(self.marks2<75 and self.marks2>=60):\n",
        "            marks2points=8\n",
        "        elif(self.marks2<60 and self.marks2>=45):\n",
        "            marks2points=7\n",
        "        print(marks2points)\n",
        "        #YOUR CODE GOES HERE\n",
        "        print(((marks1points*self.credits1)+(marks2points*self.credits2)))\n",
        "        gpa=((marks1points*self.credits1)+(marks2points*self.credits2))/(self.credits1+self.credits2)\n",
        "    \n",
        "        return round(gpa,2)\n",
        "\n",
        "stu = Student(85, 76, 3, 4)\n",
        "print(stu.grade_point_average())"
      ]
    },
    {
      "cell_type": "code",
      "source": [
        "63/7"
      ],
      "metadata": {
        "colab": {
          "base_uri": "https://localhost:8080/"
        },
        "id": "sQR7glPrlGSP",
        "outputId": "36219c3a-f000-49bd-a613-867868053f58"
      },
      "execution_count": null,
      "outputs": [
        {
          "output_type": "execute_result",
          "data": {
            "text/plain": [
              "9.0"
            ]
          },
          "metadata": {},
          "execution_count": 7
        }
      ]
    },
    {
      "cell_type": "code",
      "source": [
        "squares = map(lambda x:x*x,numbers)"
      ],
      "metadata": {
        "id": "ydyUglyrlGVo"
      },
      "execution_count": null,
      "outputs": []
    },
    {
      "cell_type": "code",
      "source": [
        "\n",
        "    \n",
        "scores=[85, 76, 3, 4]\n",
        "passing = list(filter(lambda score:score>80, scores))\n",
        "print(passing)"
      ],
      "metadata": {
        "colab": {
          "base_uri": "https://localhost:8080/"
        },
        "id": "n8VG3_KJlGZi",
        "outputId": "a1267eed-8e67-4f27-cef6-2b91653e54ba"
      },
      "execution_count": null,
      "outputs": [
        {
          "output_type": "stream",
          "name": "stdout",
          "text": [
            "[85]\n"
          ]
        }
      ]
    },
    {
      "cell_type": "code",
      "source": [
        "from functools import reduce\n",
        "scores=[85, 76, 3, 4]\n",
        "prod=1\n",
        "passing=reduce(lambda x, y: x * y, scores, 1)\n",
        "print(passing)\n"
      ],
      "metadata": {
        "colab": {
          "base_uri": "https://localhost:8080/"
        },
        "id": "ezgnrmYvlGdd",
        "outputId": "25d1dec8-59eb-49f3-90b1-47267db7f483"
      },
      "execution_count": null,
      "outputs": [
        {
          "output_type": "stream",
          "name": "stdout",
          "text": [
            "0\n"
          ]
        }
      ]
    },
    {
      "cell_type": "code",
      "source": [
        "from functools import reduce \n",
        "def func(integers, names, numbers):\n",
        "    '''\n",
        "    input:\n",
        "    integers -> list of integers to perform the square operation on\n",
        "    names -> list of names to filter out as per the condition\n",
        "    numbers -> list of numbers whose product we want\n",
        "    \n",
        "    output:\n",
        "    map_result -> output of integers list\n",
        "    filter_result -> output of the names lsit\n",
        "    reduce_result -> output of the numbers list\n",
        "    '''\n",
        "    map_result, filter_result, reduce_result = None, None, None\n",
        "    \n",
        "    # Your code stars here\n",
        "    map_result = list(map(lambda x:x*x,integers))\n",
        "    filter_result=list(filter(lambda name:len(name)<=7, names))\n",
        "    reduce_result=reduce(lambda x, y: x * y, numbers, 1)\n",
        "    \n",
        "    \n",
        "    return map_result, filter_result, reduce_result\n",
        "\n",
        "\n",
        "sqr=[4, 6, 3, 9, 2 , 8 ,12]\n",
        "nam=[\"scaler\", \"interviewbit\", \"rishabh\", \"student\", \"course\"]\n",
        "nums=[4 , 6,  9,  23, 5]\n",
        "\n",
        "func(sqr,nam,nums)"
      ],
      "metadata": {
        "colab": {
          "base_uri": "https://localhost:8080/"
        },
        "id": "FZB8x1KXq4Bw",
        "outputId": "a9bd1493-3c78-48f9-a84b-c6649498e110"
      },
      "execution_count": null,
      "outputs": [
        {
          "output_type": "execute_result",
          "data": {
            "text/plain": [
              "([16, 36, 9, 81, 4, 64, 144],\n",
              " ['scaler', 'rishabh', 'student', 'course'],\n",
              " 24840)"
            ]
          },
          "metadata": {},
          "execution_count": 25
        }
      ]
    },
    {
      "cell_type": "code",
      "source": [
        "def Selection(arr):\n",
        "    n=len(arr)\n",
        "    # One by one move boundary of unsorted subarray\n",
        "    for i in range(n):\n",
        "        min_index = i\n",
        "        min_str = arr[i]\n",
        "         \n",
        "        # Find the minimum element in unsorted subarray\n",
        "        for j in range(i+1,n):\n",
        "             \n",
        "            # If min_str is greater than arr[j]\n",
        "            if min_str>arr[j]:\n",
        "                 \n",
        "                # Make arr[j] as min_str and update min_index as j\n",
        "                min_str = arr[j]\n",
        "                min_index = j\n",
        "                 \n",
        "        # Swap the found minimum element with the first element      \n",
        "        if min_index != i:\n",
        "             \n",
        "            # Store the first element in temp\n",
        "            temp = arr[i]\n",
        "             \n",
        "            # Place the min element at the first position\n",
        "            arr[i] = arr[min_index]\n",
        "             \n",
        "            # place the element in temp at min_index\n",
        "            arr[min_index] = temp\n",
        "      \n",
        "    # Return the sorted array\n",
        "    return arr\n",
        "arr=[\"alpha\",\"beta\",\"alvin\",\"gamma\"]\n",
        "print(Selection(arr))"
      ],
      "metadata": {
        "colab": {
          "base_uri": "https://localhost:8080/"
        },
        "id": "2lC8Qzvxq4EQ",
        "outputId": "13cca549-cdd3-4e3a-a605-15b95256251e"
      },
      "execution_count": null,
      "outputs": [
        {
          "output_type": "stream",
          "name": "stdout",
          "text": [
            "['alpha', 'alvin', 'beta', 'gamma']\n"
          ]
        }
      ]
    },
    {
      "cell_type": "code",
      "source": [
        "class Student():\n",
        "    \n",
        "    marks1points=0\n",
        "    marks2points=0\n",
        "\n",
        "    def __init__(self, marks1,marks2,credits1, credits2):\n",
        "        #YOUR CODE GOES HERE\n",
        "        self.marks1=marks1\n",
        "        self.marks2=marks2\n",
        "        self.credits1=credits1\n",
        "        self.credits2=credits2\n",
        "    \n",
        "    def grade_point_average(self):\n",
        "        \n",
        "        if self.credits1==0 and self.credits2==0:\n",
        "            return \"Zero credits for both subject\"\n",
        "        \n",
        "        if(self.marks1>=90):\n",
        "            marks1points=10\n",
        "        elif (self.marks1<90 and self.marks1>=75):\n",
        "            marks1points=9\n",
        "        elif (self.marks1<75 and self.marks1>=60):\n",
        "            marks1points=8\n",
        "        elif (self.marks1<60 and self.marks1>=45):\n",
        "            marks1points=7\n",
        "        else:\n",
        "            marks1points=0\n",
        "        \n",
        "        if(self.marks2>=90):\n",
        "            marks2points=10\n",
        "        elif(self.marks2<90 and self.marks2>=75):\n",
        "            marks2points=9\n",
        "        elif(self.marks2<75 and self.marks2>=60):\n",
        "            marks2points=8\n",
        "        elif(self.marks2<60 and self.marks2>=45):\n",
        "            marks2points=7\n",
        "        else:\n",
        "            marks2points=0\n",
        "\n",
        "        #YOUR CODE GOES HERE\n",
        "        gpa=round(((float(marks1points)*float(self.credits1))+(float(marks2points)*float(self.credits2)))/(float(self.credits1)+float(self.credits2)),2)\n",
        "    \n",
        "        return gpa\n",
        "\n",
        "\n",
        "stu = Student(35,92,4,5)\n",
        "print(stu.grade_point_average())"
      ],
      "metadata": {
        "id": "7DMR6TPvq4G_",
        "colab": {
          "base_uri": "https://localhost:8080/"
        },
        "outputId": "6315c9e9-bfe9-4878-ca10-e855210abec4"
      },
      "execution_count": null,
      "outputs": [
        {
          "output_type": "stream",
          "name": "stdout",
          "text": [
            "5.56\n"
          ]
        }
      ]
    },
    {
      "cell_type": "code",
      "source": [
        "import pandas as pd\n",
        "marks = pd.read_csv('https://media-doselect.s3.amazonaws.com/generic/VodvGKvJAaeNrG7kvOQV38aog/class-grades.csv')\n",
        "\n",
        "marks.drop(marks[marks.isnull().sum(axis=1)==5].index,axis=0,inplace=True)\n",
        "\n",
        "#Type your code here to remove rows with missing value equal to 5\n",
        "marks.isnull().sum()"
      ],
      "metadata": {
        "id": "RudprRt9q4JZ",
        "colab": {
          "base_uri": "https://localhost:8080/"
        },
        "outputId": "2bd3a35d-8b2b-49df-e0c2-524d74dbfd97"
      },
      "execution_count": null,
      "outputs": [
        {
          "output_type": "execute_result",
          "data": {
            "text/plain": [
              "Prefix         0\n",
              "Assignment     0\n",
              "Tutorial      10\n",
              "Midterm       14\n",
              "TakeHome       7\n",
              "Final          3\n",
              "dtype: int64"
            ]
          },
          "metadata": {},
          "execution_count": 11
        }
      ]
    },
    {
      "cell_type": "code",
      "source": [
        "import pandas as pd\n",
        "import numpy as np\n",
        "customer = pd.read_csv('https://media-doselect.s3.amazonaws.com/generic/9B2ZPE1apMvqrLWx7p8ge9dqX/cust_dimen.csv')\n",
        "\n",
        "customer['Cust_id'] =customer['Cust_id'] = np.where(customer['Cust_id'] , customer['Cust_id'].str.replace('Cust_',\"\"), customer['Cust_id'])\n",
        "print(customer.head(10))"
      ],
      "metadata": {
        "id": "DLXqu8Egq4L9",
        "colab": {
          "base_uri": "https://localhost:8080/"
        },
        "outputId": "d90ddaab-08ed-4d48-f165-95f8b227261a"
      },
      "execution_count": null,
      "outputs": [
        {
          "output_type": "stream",
          "name": "stdout",
          "text": [
            "        Customer_Name Province   Region Customer_Segment Cust_id\n",
            "0  MUHAMMED MACINTYRE  NUNAVUT  NUNAVUT   SMALL BUSINESS       1\n",
            "1        BARRY FRENCH  NUNAVUT  NUNAVUT         CONSUMER       2\n",
            "2       CLAY ROZENDAL  NUNAVUT  NUNAVUT        CORPORATE       3\n",
            "3      CARLOS SOLTERO  NUNAVUT  NUNAVUT         CONSUMER       4\n",
            "4        CARL JACKSON  NUNAVUT  NUNAVUT        CORPORATE       5\n",
            "5      MONICA FEDERLE  NUNAVUT  NUNAVUT        CORPORATE       6\n",
            "6     DOROTHY BADDERS  NUNAVUT  NUNAVUT      HOME OFFICE       7\n",
            "7     NEOLA SCHNEIDER  NUNAVUT  NUNAVUT      HOME OFFICE       8\n",
            "8         CARLOS DALY  NUNAVUT  NUNAVUT      HOME OFFICE       9\n",
            "9       CLAUDIA MINER  NUNAVUT  NUNAVUT   SMALL BUSINESS      10\n"
          ]
        }
      ]
    },
    {
      "cell_type": "code",
      "source": [
        ""
      ],
      "metadata": {
        "id": "lgc5z0GYq4Om"
      },
      "execution_count": null,
      "outputs": []
    }
  ]
}